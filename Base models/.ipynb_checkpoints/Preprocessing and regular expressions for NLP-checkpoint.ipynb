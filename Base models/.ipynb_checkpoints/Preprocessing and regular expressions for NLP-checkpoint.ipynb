{
 "cells": [
  {
   "cell_type": "code",
   "execution_count": null,
   "metadata": {},
   "outputs": [],
   "source": [
    "# Для стандартной токенизации: \n",
    "# отдельно русские слова, десятичные числа с разделителем запятая или точка, отдельно знаки\n",
    "r'[а-яА-ЯёЁ]+|[-+]?(?:\\d*[,.]*\\d+)|\\S'"
   ]
  },
  {
   "cell_type": "code",
   "execution_count": null,
   "metadata": {},
   "outputs": [],
   "source": [
    "# удаление гиперссылок\n",
    "r'https?:\\/\\/.*[\\r\\n]*'"
   ]
  },
  {
   "cell_type": "code",
   "execution_count": null,
   "metadata": {},
   "outputs": [],
   "source": [
    "# удаление специальных символов\n",
    "r\"[^a-zA-Z0-9.?! ]+\", \"\""
   ]
  },
  {
   "cell_type": "code",
   "execution_count": null,
   "metadata": {},
   "outputs": [],
   "source": [
    "# удаление лишних пробелов\n",
    "r\"[' ']{2,}\", \"\""
   ]
  },
  {
   "cell_type": "code",
   "execution_count": null,
   "metadata": {},
   "outputs": [],
   "source": [
    "def preprocess(corpus, whitespaces=True):\n",
    "    corpus = corpus.lower().strip()\n",
    "    if whitespaces == True:\n",
    "        corpus = re.sub(r\"[' ']{2,}\", \"\", corpus)\n",
    "    corpus = re.sub(r\"[^a-zA-Z0-9.?! ]+\", \"\", corpus)    \n",
    "    return corpus"
   ]
  }
 ],
 "metadata": {
  "kernelspec": {
   "display_name": "Python 3",
   "language": "python",
   "name": "python3"
  },
  "language_info": {
   "codemirror_mode": {
    "name": "ipython",
    "version": 3
   },
   "file_extension": ".py",
   "mimetype": "text/x-python",
   "name": "python",
   "nbconvert_exporter": "python",
   "pygments_lexer": "ipython3",
   "version": "3.8.5"
  }
 },
 "nbformat": 4,
 "nbformat_minor": 4
}
