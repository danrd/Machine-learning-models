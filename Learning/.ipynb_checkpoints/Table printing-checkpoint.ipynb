{
 "cells": [
  {
   "cell_type": "code",
   "execution_count": null,
   "metadata": {},
   "outputs": [],
   "source": [
    "Напишите программу, на вход которой подаётся прямоугольная матрица в виде последовательности строк. После последней строки матрицы идёт строка, содержащая только строку \"end\" (без кавычек, см. Sample Input).\n",
    "\n",
    "Программа должна вывести матрицу того же размера, у которой каждый элемент в позиции i, j равен сумме элементов первой матрицы на позициях (i-1, j), (i+1, j), (i, j-1), (i, j+1). У крайних символов соседний элемент находится с противоположной стороны матрицы.\n",
    "\n",
    "В случае одной строки/столбца элемент сам себе является соседом по соответствующему направлению.\n",
    "\n",
    "Sample Input 1:\n",
    "\n",
    "9 5 3\n",
    "0 7 -1\n",
    "-5 2 9\n",
    "end\n",
    "Sample Output 1:\n",
    "\n",
    "3 21 22\n",
    "10 6 19\n",
    "20 16 -1\n",
    "Sample Input 2:\n",
    "\n",
    "1\n",
    "end\n",
    "Sample Output 2:\n",
    "\n",
    "4"
   ]
  },
  {
   "cell_type": "code",
   "execution_count": null,
   "metadata": {},
   "outputs": [],
   "source": [
    "matrix = []\n",
    "n = 0\n",
    "while True:\n",
    "    line = [x for x in input().split()]\n",
    "    if line != [\"end\"]:\n",
    "        line = list(map(int, line))\n",
    "        matrix.extend(line)\n",
    "        n += 1\n",
    "    else:\n",
    "        break \n",
    "m = int(len(matrix)/n)\n",
    "result = matrix.copy()\n",
    "for i in range(len(matrix)):\n",
    "    result[i] = matrix[int(i//m)*m:int(i//m)*m+m][(i+1)%m]+ matrix[int(i//m)*m:int(i//m)*m+m][(i%m)-1]+matrix[(i+m)%(n*m)]+matrix[(i-m)]\n",
    "for j in range(n):\n",
    "    print(*result[j*m:j*m+m])"
   ]
  },
  {
   "cell_type": "code",
   "execution_count": null,
   "metadata": {},
   "outputs": [],
   "source": [
    "Выведите таблицу размером n×n, заполненную числами от 1 до n^2 по спирали, выходящей из левого верхнего угла и закрученной по часовой стрелке, как показано в примере (здесь n=5n=5):\n",
    "Sample Input:\n",
    "5\n",
    "\n",
    "Sample Output:\n",
    "\n",
    "1 2 3 4 5\n",
    "16 17 18 19 6\n",
    "15 24 25 20 7\n",
    "14 23 22 21 8\n",
    "13 12 11 10 9"
   ]
  },
  {
   "cell_type": "code",
   "execution_count": null,
   "metadata": {},
   "outputs": [],
   "source": [
    "n = int(input())\n",
    "matrix = [[i]*n for i in range(n)]\n",
    "values = [i for i in range(1, n*n+1)]\n",
    "i, imin, j, jmin, c = 0, 0, 0, 0, 0\n",
    "imax, jmax = n, n\n",
    "while c != len(values): \n",
    "    for j in range(jmin,jmax):\n",
    "        matrix[i][j] = values[c]\n",
    "        c += 1\n",
    "        if c==len(values):      \n",
    "            break\n",
    "    imin += 1\n",
    "    if c == len(values):\n",
    "        break\n",
    "    else:\n",
    "        for i in range(imin, imax):\n",
    "            matrix[i][j] = values[c]\n",
    "            c += 1\n",
    "            if c==len(values):\n",
    "                break\n",
    "    jmax += -1\n",
    "    if c == len(values):\n",
    "        break\n",
    "    else:\n",
    "        for j in range(jmax-1, jmin-1, -1):\n",
    "            matrix[i][j] = values[c]\n",
    "            c += 1\n",
    "            if c==len(values):\n",
    "                break\n",
    "    imax += -1\n",
    "    if c == len(values):\n",
    "        break\n",
    "    else:\n",
    "        for i in range(imax-1, imin-1, -1):\n",
    "            matrix[i][j] = values[c]\n",
    "            c += 1\n",
    "            if c == len(values):\n",
    "                break\n",
    "    jmin += 1    \n",
    "for j in range(n):\n",
    "    print(*matrix[j])"
   ]
  }
 ],
 "metadata": {
  "kernelspec": {
   "display_name": "Python 3",
   "language": "python",
   "name": "python3"
  },
  "language_info": {
   "codemirror_mode": {
    "name": "ipython",
    "version": 3
   },
   "file_extension": ".py",
   "mimetype": "text/x-python",
   "name": "python",
   "nbconvert_exporter": "python",
   "pygments_lexer": "ipython3",
   "version": "3.8.5"
  }
 },
 "nbformat": 4,
 "nbformat_minor": 4
}
