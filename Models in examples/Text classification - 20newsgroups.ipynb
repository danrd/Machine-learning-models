{
 "cells": [
  {
   "cell_type": "code",
   "execution_count": 234,
   "metadata": {},
   "outputs": [],
   "source": [
    "import numpy as np\n",
    "import scipy\n",
    "import re\n",
    "import collections\n",
    "from collections import defaultdict\n",
    "import datetime\n",
    "import random\n",
    "\n",
    "import matplotlib.pyplot as plt\n",
    "%matplotlib inline\n",
    "\n",
    "\n",
    "import spacy\n",
    "from spacy.symbols import ORTH\n",
    "#!python -m spacy download en\n",
    "from spacy.tokenizer import Tokenizer\n",
    "from spacy.lang.en import English\n",
    "\n",
    "import nltk\n",
    "#nltk.download('stopwords')\n",
    "from nltk.corpus import stopwords\n",
    "from nltk.tokenize import word_tokenize, ToktokTokenizer, RegexpTokenizer\n",
    "\n",
    "import gensim\n",
    "from gensim import models\n",
    "from gensim import corpora\n",
    "\n",
    "from sklearn.datasets import fetch_20newsgroups\n",
    "from sklearn.metrics import accuracy_score\n",
    "from sklearn.feature_extraction.text import TfidfVectorizer, CountVectorizer\n",
    "from sklearn.pipeline import Pipeline\n",
    "from sklearn.linear_model import LogisticRegression\n",
    "\n",
    "import torch\n",
    "from torch import nn\n",
    "from torch.nn import functional as F\n",
    "from torch.utils.data import Dataset\n",
    "from torch.utils.data import DataLoader"
   ]
  },
  {
   "cell_type": "markdown",
   "metadata": {},
   "source": [
    "## Предобработка текстов и подготовка признаков"
   ]
  },
  {
   "cell_type": "code",
   "execution_count": 128,
   "metadata": {},
   "outputs": [
    {
     "name": "stdout",
     "output_type": "stream",
     "text": [
      "Количество обучающих текстов 11314\n",
      "Количество тестовых текстов 7532\n",
      "\n",
      "From: bgrubb@dante.nmsu.edu (GRUBB)\n",
      "Subject: Re: IDE vs SCSI\n",
      "Organization: New Mexico State University, Las Cruces, NM\n",
      "Lines: 44\n",
      "Distribution: world\n",
      "NNTP-Posting-Host: dante.nmsu.edu\n",
      "\n",
      "DXB132@psuvm.psu.edu writes:\n",
      ">In article <1qlbrlINN7rk@dns1.NMSU.Edu>, bgrubb@dante.nmsu.edu (GRUBB) says:\n",
      ">>In PC Magazine April 27, 1993:29 \"Although SCSI is twice as fasst as ESDI,\n",
      ">>20% faster than IDE, and support up to 7 devices its acceptance ...has   \n",
      ">>long been stalled by incompatability problems and installation headaches.\"\n",
      "                                                                      \n",
      ">I love it when magazine writers make stupid statements like that re:      \n",
      ">performance. Where do they get those numbers? I'll list the actual\n",
      ">performance ranges, which should convince anyone that such a               \n",
      ">statement is absurd:                                                     \n",
      ">SCSI-I ranges from 0-5MB/s.                                                \n",
      ">SCSI-II ranges from 0-40MB/s.            \n",
      ">IDE ranges from 0-8.3MB/s.                          \n",
      ">ESDI is always 1.25MB/s (although there are some non-standard versions)\n",
      "ALL this shows is that YOU don't know much about SCSI.\n",
      "\n",
      "SCSI-1 {with a SCSI-1 controler chip} range is indeed 0-5MB/s\n",
      "and that is ALL you have right about SCSI\n",
      "SCSI-1 {With a SCSI-2 controller chip}: 4-6MB/s with 10MB/s burst {8-bit}\n",
      " Note the INCREASE in SPEED, the Mac Quadra uses this version of SCSI-1\n",
      " so it DOES exist. Some PC use this set up too.\n",
      "SCSI-2 {8-bit/SCSI-1 mode}:          4-6MB/s with 10MB/s burst\n",
      "SCSI-2 {16-bit/wide or fast mode}:  8-12MB/s with 20MB/s burst\n",
      "SCSI-2 {32-bit/wide AND fast}:     15-20MB/s with 40MB/s burst\n",
      " \n",
      "By your OWN data the \"Although SCSI is twice as fast as ESDI\" is correct\n",
      "With a SCSI-2 controller chip SCSI-1 can reach 10MB/s which is indeed\n",
      "\"20% faster than IDE\" {120% of 8.3 is 9.96}. ALL these SCSI facts have been\n",
      "posted to this newsgroup in my Mac & IBM info sheet {available by FTP on \n",
      "sumex-aim.stanford.edu (36.44.0.6) in the info-mac/report as \n",
      "mac-ibm-compare[version #].txt (It should be 173 but 161 may still be there)}\n",
      "\n",
      "Part of this problem is both Mac and IBM PC are inconsiant about what SCSI\n",
      "is which.  Though it is WELL documented that the Quadra has a SCSI-2 chip\n",
      "an Apple salesperson said \"it uses a fast SCSI-1 chip\" {Not at a 6MB/s,\n",
      "10MB/s burst it does not. SCSI-1 is 5MB/s maximum synchronous and Quadra\n",
      "uses ANsynchronous SCSI which is SLOWER}  It seems that Mac and IBM see\n",
      "SCSI-1 interface and think 'SCSI-1' when it maybe a SCSI-1 interface driven\n",
      "in the machine by a SCSi-2 controller chip in 8-bit mode {Which is MUCH\n",
      "FASTER then true SCSI-1 can go}.\n",
      "\n",
      "Don't slam an article because you don't understand what is going on.\n",
      "One reference for the Quadra's SCSI-2 controller chip is \n",
      "(Digital Review, Oct 21, 1991 v8 n33 p8(1)).\n",
      "\n",
      "Метка 7\n"
     ]
    }
   ],
   "source": [
    "train_source = fetch_20newsgroups(subset='train')\n",
    "test_source = fetch_20newsgroups(subset='test')\n",
    "\n",
    "print('Количество обучающих текстов', len(train_source['data']))\n",
    "print('Количество тестовых текстов', len(test_source['data']))\n",
    "\n",
    "print()\n",
    "print(train_source['data'][7].strip())\n",
    "\n",
    "\n",
    "print()\n",
    "print('Метка', train_source['target'][0])"
   ]
  },
  {
   "cell_type": "code",
   "execution_count": 129,
   "metadata": {},
   "outputs": [],
   "source": [
    "def preprocess(corpus, whitespaces=True):\n",
    "    corpus = corpus.lower().strip()\n",
    "    if whitespaces == True:\n",
    "        corpus = re.sub(r\"[' ']{2,}\", \"\", corpus)\n",
    "    corpus = re.sub(r\"[^a-zA-Z0-9.?! ]+\", \"\", corpus)    \n",
    "    return corpus"
   ]
  },
  {
   "cell_type": "code",
   "execution_count": 292,
   "metadata": {},
   "outputs": [],
   "source": [
    "nlp = English()\n",
    "nlp.Defaults.stop_words |= set(stopwords.words('english')) - set(nlp.Defaults.stop_words)\n",
    "tokenizer = Tokenizer(nlp.vocab)\n",
    "train_tokens = [list(map(str, tokenizer(preprocess(sentence)))) for sentence in train_source['data']]\n",
    "test_tokens = [list(map(str, tokenizer(preprocess(sentence)))) for sentence in test_source['data']]"
   ]
  },
  {
   "cell_type": "code",
   "execution_count": 252,
   "metadata": {},
   "outputs": [],
   "source": [
    "stops = list(set(stopwords.words('english')))\n",
    "vectorizer = TfidfVectorizer(preprocessor=preprocess, \n",
    "                             tokenizer=tokenizer)\n",
    "X = vectorizer.fit_transform(train_source['data'])\n",
    "y = vectorizer.fit_transform(test_source['data'])"
   ]
  },
  {
   "cell_type": "code",
   "execution_count": 386,
   "metadata": {},
   "outputs": [],
   "source": [
    "train_dic = corpora.Dictionary(train_tokens)\n",
    "train_dic.filter_n_most_frequent(100)"
   ]
  },
  {
   "cell_type": "code",
   "execution_count": 416,
   "metadata": {
    "scrolled": true
   },
   "outputs": [
    {
     "data": {
      "text/plain": [
       "[('two', 2402),\n",
       " ('many', 2363),\n",
       " ('such', 2360),\n",
       " ('say', 2273),\n",
       " ('most', 2247),\n",
       " ('want', 2236),\n",
       " ('first', 2213),\n",
       " ('why', 2211),\n",
       " ('us', 2180),\n",
       " ('need', 2168),\n",
       " ('where', 2161),\n",
       " ('our', 2122),\n",
       " ('being', 2065),\n",
       " ('used', 2052),\n",
       " ('same', 2043),\n",
       " ('over', 2021),\n",
       " ('said', 1957),\n",
       " ('right', 1952),\n",
       " ('did', 1945),\n",
       " ('well', 1924),\n",
       " ('now', 1909),\n",
       " ('go', 1874),\n",
       " ('really', 1872),\n",
       " ('1', 1848),\n",
       " ('after', 1817),\n",
       " ('going', 1816),\n",
       " ('system', 1798),\n",
       " ('still', 1768),\n",
       " ('computer', 1765),\n",
       " ('something', 1759),\n",
       " ('believe', 1745),\n",
       " ('2', 1737),\n",
       " ('find', 1692),\n",
       " ('god', 1688),\n",
       " ('work', 1657),\n",
       " ('take', 1628),\n",
       " ('using', 1617),\n",
       " ('must', 1595),\n",
       " ('too', 1590),\n",
       " ('state', 1583),\n",
       " ('back', 1571),\n",
       " ('.', 1570),\n",
       " ('might', 1567),\n",
       " ('cant', 1547),\n",
       " ('problem', 1539),\n",
       " ('last', 1532),\n",
       " ('  ', 1522),\n",
       " ('him', 1522),\n",
       " ('never', 1513),\n",
       " ('here', 1502),\n",
       " ('off', 1498),\n",
       " ('since', 1494),\n",
       " ('years', 1484),\n",
       " ('got', 1469),\n",
       " ('own', 1419),\n",
       " ('information', 1410),\n",
       " ('before', 1399),\n",
       " ('point', 1384),\n",
       " ('better', 1370),\n",
       " ('through', 1369),\n",
       " ('number', 1366),\n",
       " ('things', 1358),\n",
       " ('read', 1354),\n",
       " ('both', 1352),\n",
       " ('without', 1350),\n",
       " ('made', 1342),\n",
       " ('sure', 1332),\n",
       " ('under', 1311),\n",
       " ('help', 1303),\n",
       " ('doesnt', 1300),\n",
       " ('few', 1295),\n",
       " ('question', 1293),\n",
       " ('space', 1292),\n",
       " ('government', 1288),\n",
       " ('someone', 1285),\n",
       " ('down', 1274),\n",
       " ('didnt', 1267),\n",
       " ('between', 1266),\n",
       " ('x', 1262),\n",
       " ('come', 1260),\n",
       " ('part', 1260),\n",
       " ('data', 1257),\n",
       " ('another', 1256),\n",
       " ('little', 1256),\n",
       " ('while', 1226),\n",
       " ('case', 1225),\n",
       " ('look', 1219),\n",
       " ('file', 1217),\n",
       " ('give', 1216),\n",
       " ('fact', 1199),\n",
       " ('program', 1199),\n",
       " ('long', 1183),\n",
       " ('david', 1167),\n",
       " ('email', 1161),\n",
       " ('version', 1158),\n",
       " ('least', 1148),\n",
       " ('please', 1146),\n",
       " ('available', 1145),\n",
       " ('windows', 1145),\n",
       " ('tell', 1143),\n",
       " ('drive', 1137),\n",
       " ('probably', 1134),\n",
       " ('around', 1133),\n",
       " ('thing', 1119),\n",
       " ('set', 1118),\n",
       " ('put', 1118),\n",
       " ('year', 1109),\n",
       " ('public', 1102),\n",
       " ('every', 1096),\n",
       " ('seems', 1091),\n",
       " ('each', 1087),\n",
       " ('lot', 1086),\n",
       " ('against', 1081),\n",
       " ('best', 1080),\n",
       " ('3', 1065),\n",
       " ('key', 1063),\n",
       " ('anything', 1061),\n",
       " ('law', 1053),\n",
       " ('power', 1046),\n",
       " ('ive', 1042),\n",
       " ('world', 1041),\n",
       " ('course', 1029),\n",
       " ('hard', 1027),\n",
       " ('different', 1025),\n",
       " ('run', 1018),\n",
       " ('writesin', 1017),\n",
       " ('far', 1013),\n",
       " ('4', 1012),\n",
       " ('software', 1002),\n",
       " ('try', 988),\n",
       " ('enough', 988),\n",
       " ('real', 986),\n",
       " ('john', 984),\n",
       " ('science', 984),\n",
       " ('research', 979),\n",
       " ('thats', 962),\n",
       " ('great', 951),\n",
       " ('mean', 943),\n",
       " ('support', 934),\n",
       " ('old', 932),\n",
       " ('subject', 926),\n",
       " ('car', 919),\n",
       " ('systems', 919),\n",
       " ('able', 917),\n",
       " ('keep', 912),\n",
       " ('she', 909),\n",
       " ('looking', 900),\n",
       " ('bit', 899),\n",
       " ('name', 898),\n",
       " ('called', 897),\n",
       " ('rather', 894),\n",
       " ('her', 894),\n",
       " ('next', 893),\n",
       " ('second', 891),\n",
       " ('found', 890),\n",
       " ('day', 888),\n",
       " ('says', 888),\n",
       " ('list', 874),\n",
       " ('youre', 870),\n",
       " ('having', 866),\n",
       " ('nothing', 865),\n",
       " ('access', 863),\n",
       " ('let', 862),\n",
       " ('id', 861),\n",
       " ('always', 858),\n",
       " ('free', 851),\n",
       " ('5', 849),\n",
       " ('trying', 846),\n",
       " ('end', 840),\n",
       " ('true', 839),\n",
       " ('seen', 839),\n",
       " ('actually', 838),\n",
       " ('send', 836),\n",
       " ('window', 834),\n",
       " ('thought', 828),\n",
       " ('group', 828),\n",
       " ('post', 826),\n",
       " ('call', 824),\n",
       " ('national', 824),\n",
       " ('high', 821),\n",
       " ('reason', 821),\n",
       " ('possible', 821),\n",
       " ('heard', 819),\n",
       " ('message', 814),\n",
       " ('done', 809),\n",
       " ('gun', 807),\n",
       " ('isnt', 803),\n",
       " ('team', 798),\n",
       " ('though', 798),\n",
       " ('doing', 796),\n",
       " ('person', 793),\n",
       " ('big', 791),\n",
       " ('chip', 790),\n",
       " ('game', 790),\n",
       " ('either', 789),\n",
       " ('less', 788),\n",
       " ('life', 782),\n",
       " ('following', 782),\n",
       " ('line', 775),\n",
       " ('c', 773),\n",
       " ('seem', 770),\n",
       " ('means', 769),\n",
       " ('quite', 767),\n",
       " ('card', 767),\n",
       " ('example', 766),\n",
       " ('several', 765),\n",
       " ('bad', 759),\n",
       " ('order', 758),\n",
       " ('usalines', 757),\n",
       " ('kind', 752),\n",
       " ('three', 752),\n",
       " ('ever', 748),\n",
       " ('wrote', 747),\n",
       " ('it.', 746),\n",
       " ('cannot', 745),\n",
       " ('left', 740),\n",
       " ('above', 739),\n",
       " ('getting', 734),\n",
       " ('problems', 733),\n",
       " ('makes', 732),\n",
       " ('jesus', 731),\n",
       " ('else', 730),\n",
       " ('given', 729),\n",
       " ('times', 729),\n",
       " ('general', 721),\n",
       " ('code', 718),\n",
       " ('center', 718),\n",
       " ('whether', 711),\n",
       " ('10', 710),\n",
       " ('start', 708),\n",
       " ('idea', 708),\n",
       " ('1993', 704),\n",
       " ('files', 703),\n",
       " ('during', 703),\n",
       " ('technology', 702),\n",
       " ('told', 701),\n",
       " ('control', 690),\n",
       " ('place', 689),\n",
       " ('came', 686),\n",
       " ('american', 686),\n",
       " ('already', 682),\n",
       " ('human', 681),\n",
       " ('apr', 681),\n",
       " ('...', 681),\n",
       " ('again', 677),\n",
       " ('play', 676),\n",
       " ('man', 674),\n",
       " ('mark', 673),\n",
       " ('until', 669),\n",
       " ('based', 668),\n",
       " ('universitylines', 668),\n",
       " ('current', 667),\n",
       " ('ask', 666),\n",
       " ('local', 665),\n",
       " ('once', 662),\n",
       " ('away', 659),\n",
       " ('opinions', 658),\n",
       " ('maybe', 657),\n",
       " ('whole', 656),\n",
       " ('mail', 654),\n",
       " ('news', 648),\n",
       " ('small', 645),\n",
       " ('buy', 642),\n",
       " ('however', 642),\n",
       " ('pretty', 641),\n",
       " ('ill', 640),\n",
       " ('running', 637),\n",
       " ('others', 636),\n",
       " ('went', 633),\n",
       " ('bill', 633),\n",
       " ('disk', 629),\n",
       " ('evidence', 629),\n",
       " ('large', 627),\n",
       " ('institute', 626),\n",
       " ('show', 625),\n",
       " ('interested', 623),\n",
       " ('money', 621),\n",
       " ('source', 619),\n",
       " ('change', 617),\n",
       " ('christian', 616),\n",
       " ('remember', 613),\n",
       " ('book', 612),\n",
       " ('wont', 611),\n",
       " ('clipper', 611),\n",
       " ('answer', 602),\n",
       " ('live', 602),\n",
       " ('michael', 601),\n",
       " ('info', 600),\n",
       " ('yet', 600),\n",
       " ('saying', 600),\n",
       " ('word', 599),\n",
       " ('wrong', 596),\n",
       " ('questions', 587),\n",
       " ('standard', 585),\n",
       " ('open', 585),\n",
       " ('turkish', 584),\n",
       " ('feel', 583),\n",
       " ('mac', 581),\n",
       " ('comes', 581),\n",
       " ('image', 580)]"
      ]
     },
     "execution_count": 416,
     "metadata": {},
     "output_type": "execute_result"
    }
   ],
   "source": [
    "train_dic.most_common(300)"
   ]
  },
  {
   "cell_type": "code",
   "execution_count": 388,
   "metadata": {},
   "outputs": [],
   "source": [
    "bow = [train_dic.doc2bow(sentence) for sentence in train_tokens]"
   ]
  },
  {
   "cell_type": "code",
   "execution_count": 405,
   "metadata": {},
   "outputs": [],
   "source": [
    "id_words = [[(train_dic[id], count) for id, count in line] for line in bow]"
   ]
  },
  {
   "cell_type": "code",
   "execution_count": 389,
   "metadata": {},
   "outputs": [],
   "source": [
    "tfidf = models.TfidfModel(bow)\n",
    "corpus_tfidf = tfidf[bow]"
   ]
  },
  {
   "cell_type": "code",
   "execution_count": 391,
   "metadata": {},
   "outputs": [],
   "source": [
    "lsi = models.LsiModel(corpus_tfidf, id2word=train_dic, num_topics=20)\n",
    "corpus_lsi = lsi[corpus_tfidf]"
   ]
  },
  {
   "cell_type": "code",
   "execution_count": 392,
   "metadata": {},
   "outputs": [],
   "source": [
    "corpus_lsi = lsi[corpus_tfidf]"
   ]
  },
  {
   "cell_type": "code",
   "execution_count": 402,
   "metadata": {},
   "outputs": [
    {
     "ename": "TypeError",
     "evalue": "print_topics() got an unexpected keyword argument 'show_topics'",
     "output_type": "error",
     "traceback": [
      "\u001b[1;31m---------------------------------------------------------------------------\u001b[0m",
      "\u001b[1;31mTypeError\u001b[0m                                 Traceback (most recent call last)",
      "\u001b[1;32m<ipython-input-402-583030ca4e0c>\u001b[0m in \u001b[0;36m<module>\u001b[1;34m\u001b[0m\n\u001b[0;32m      1\u001b[0m \u001b[0mhdp\u001b[0m \u001b[1;33m=\u001b[0m \u001b[0mmodels\u001b[0m\u001b[1;33m.\u001b[0m\u001b[0mHdpModel\u001b[0m\u001b[1;33m(\u001b[0m\u001b[0mbow\u001b[0m\u001b[1;33m,\u001b[0m \u001b[0mid2word\u001b[0m\u001b[1;33m=\u001b[0m\u001b[0mtrain_dic\u001b[0m\u001b[1;33m)\u001b[0m\u001b[1;33m\u001b[0m\u001b[1;33m\u001b[0m\u001b[0m\n\u001b[1;32m----> 2\u001b[1;33m \u001b[0mhdp\u001b[0m\u001b[1;33m.\u001b[0m\u001b[0mprint_topics\u001b[0m\u001b[1;33m(\u001b[0m\u001b[0mshow_topics\u001b[0m\u001b[1;33m=\u001b[0m\u001b[1;36m20\u001b[0m\u001b[1;33m,\u001b[0m \u001b[0mnum_words\u001b[0m\u001b[1;33m=\u001b[0m\u001b[1;36m10\u001b[0m\u001b[1;33m)\u001b[0m\u001b[1;33m\u001b[0m\u001b[1;33m\u001b[0m\u001b[0m\n\u001b[0m",
      "\u001b[1;31mTypeError\u001b[0m: print_topics() got an unexpected keyword argument 'show_topics'"
     ]
    }
   ],
   "source": [
    "hdp = models.HdpModel(bow, id2word=train_dic)"
   ]
  },
  {
   "cell_type": "code",
   "execution_count": 411,
   "metadata": {},
   "outputs": [],
   "source": [
    "lda = models.LdaModel(corpus=bow, num_topics=20, id2word=train_dic)\n",
    "doc_lda = lda[bow]"
   ]
  },
  {
   "cell_type": "code",
   "execution_count": 412,
   "metadata": {},
   "outputs": [
    {
     "data": {
      "text/plain": [
       "[(0,\n",
       "  '0.002*\"firm\" + 0.002*\"theists\" + 0.001*\"16550\" + 0.001*\"uart\" + 0.001*\"tiff\" + 0.001*\"americas\" + 0.001*\"odometer\" + 0.001*\"275\" + 0.001*\"dtmedincatbyte.b30.ingr.com\" + 0.001*\"allines\"'),\n",
       " (1,\n",
       "  '0.008*\"msg\" + 0.002*\"chinese\" + 0.002*\"food\" + 0.002*\".\" + 0.002*\"sensitivity\" + 0.002*\"bobbevice.ico.tek.com\" + 0.002*\"newsletterpage\" + 0.002*\"syndrome\" + 0.002*\"turkish\" + 0.002*\"vax\"'),\n",
       " (2,\n",
       "  '0.003*\"ide\" + 0.003*\"bus\" + 0.002*\"internetlines\" + 0.002*\"oracle\" + 0.001*\"controller\" + 0.001*\"lciii\" + 0.001*\"isa\" + 0.001*\"static\" + 0.001*\"enterpoop.mit.eduto\" + 0.001*\"scsi\"'),\n",
       " (3,\n",
       "  '0.003*\"1\" + 0.003*\"islanders\" + 0.003*\"pp\" + 0.003*\"play\" + 0.003*\"bmw\" + 0.003*\"winnipeg\" + 0.002*\"pens\" + 0.002*\"propulsion\" + 0.002*\"jet\" + 0.002*\"tie\"'),\n",
       " (4,\n",
       "  '0.003*\"god\" + 0.003*\"such\" + 0.003*\"believe\" + 0.002*\"many\" + 0.002*\"being\" + 0.002*\"say\" + 0.002*\"point\" + 0.002*\"first\" + 0.002*\"life\" + 0.002*\"why\"'),\n",
       " (5,\n",
       "  '0.008*\"gordon\" + 0.005*\"gebcs.pitt.edu\" + 0.003*\"computer\" + 0.003*\"surrender\" + 0.003*\"michael\" + 0.003*\"intellect\" + 0.003*\"skepticism\" + 0.003*\"banksn3jxp\" + 0.003*\"chastity\" + 0.003*\"soon.\"'),\n",
       " (6,\n",
       "  '0.009*\".\" + 0.002*\"alaska\" + 0.002*\"nsmcaacad3.alaska.edu\" + 0.002*\"jacked\" + 0.002*\"nsmcaaurora.alaska.edusubject\" + 0.001*\"noringnetcom.com\" + 0.001*\"noring\" + 0.001*\"dock\" + 0.001*\"fairbankslines\" + 0.001*\"integra\"'),\n",
       " (7,\n",
       "  '0.010*\"space\" + 0.005*\"card\" + 0.003*\"launch\" + 0.003*\"shuttle\" + 0.003*\"ati\" + 0.002*\"satellite\" + 0.002*\"cards\" + 0.002*\"station\" + 0.002*\"toronto\" + 0.002*\"fpu\"'),\n",
       " (8,\n",
       "  '0.009*\"gun\" + 0.004*\"window\" + 0.003*\"guns\" + 0.002*\"expose\" + 0.002*\"oil\" + 0.002*\"want\" + 0.002*\"control\" + 0.002*\"chicago\" + 0.001*\"weapon\" + 0.001*\"firearms\"'),\n",
       " (9,\n",
       "  '0.004*\"car\" + 0.003*\"information\" + 0.003*\"used\" + 0.002*\"two\" + 0.002*\"computer\" + 0.002*\"ground\" + 0.002*\"where\" + 0.002*\"buy\" + 0.002*\"most\" + 0.002*\"power\"'),\n",
       " (10,\n",
       "  '0.004*\"gary\" + 0.003*\"l\" + 0.002*\"lebanese\" + 0.002*\"gldcunixb.cc.columbia.edu\" + 0.002*\"neutral\" + 0.002*\"nubus\" + 0.002*\"lebanon\" + 0.001*\"stanley\" + 0.001*\"card\" + 0.001*\"pds\"'),\n",
       " (11,\n",
       "  '0.010*\"god\" + 0.010*\"jesus\" + 0.007*\"bible\" + 0.005*\"church\" + 0.004*\"drive\" + 0.004*\"believe\" + 0.004*\"christians\" + 0.003*\"john\" + 0.003*\"christ\" + 0.003*\"truth\"'),\n",
       " (12,\n",
       "  '0.005*\"encryption\" + 0.004*\"mouse\" + 0.004*\"data\" + 0.003*\"system\" + 0.003*\"technology\" + 0.003*\"chip\" + 0.002*\"available\" + 0.002*\"software\" + 0.002*\"using\" + 0.002*\"run\"'),\n",
       " (13,\n",
       "  '0.003*\"bike\" + 0.002*\"firearm\" + 0.002*\"car\" + 0.002*\"diamond\" + 0.002*\"chris\" + 0.002*\"david\" + 0.002*\"drivers\" + 0.002*\"bikes\" + 0.002*\"harddisk\" + 0.001*\"gun\"'),\n",
       " (14,\n",
       "  '0.005*\"file\" + 0.005*\"x\" + 0.005*\"windows\" + 0.004*\"program\" + 0.004*\"using\" + 0.003*\"system\" + 0.003*\"need\" + 0.003*\"version\" + 0.003*\"email\" + 0.003*\"available\"'),\n",
       " (15,\n",
       "  '0.004*\"our\" + 0.004*\"said\" + 0.004*\"us\" + 0.003*\"say\" + 0.003*\"being\" + 0.003*\"key\" + 0.003*\"right\" + 0.003*\"many\" + 0.003*\"god\" + 0.003*\"now\"'),\n",
       " (16,\n",
       "  '0.006*\"scsi\" + 0.005*\"ide\" + 0.004*\"drive\" + 0.004*\"vs\" + 0.003*\"clayton\" + 0.003*\"pts\" + 0.003*\"1\" + 0.003*\"drives\" + 0.003*\"2\" + 0.003*\"controller\"'),\n",
       " (17,\n",
       "  '0.004*\"helmet\" + 0.003*\"captain\" + 0.003*\"wires\" + 0.003*\"traded\" + 0.002*\"cooling\" + 0.002*\"p\" + 0.002*\"planes\" + 0.001*\"nuclear\" + 0.001*\"fitted\" + 0.001*\"towers\"'),\n",
       " (18,\n",
       "  '0.003*\"2\" + 0.003*\"1\" + 0.003*\"two\" + 0.003*\"why\" + 0.003*\"  \" + 0.002*\"really\" + 0.002*\"need\" + 0.002*\"want\" + 0.002*\"same\" + 0.002*\"take\"'),\n",
       " (19,\n",
       "  '0.003*\"comet\" + 0.003*\"orbit\" + 0.002*\"jupiter\" + 0.002*\"r.\" + 0.002*\"ak296yfn.ysu.edu\" + 0.002*\"tammy\" + 0.002*\"gehrels\" + 0.002*\"john\" + 0.002*\"ceremonial\" + 0.001*\"walla\"')]"
      ]
     },
     "execution_count": 412,
     "metadata": {},
     "output_type": "execute_result"
    }
   ],
   "source": [
    "lda.show_topics(20)"
   ]
  },
  {
   "cell_type": "code",
   "execution_count": 229,
   "metadata": {},
   "outputs": [
    {
     "ename": "ValueError",
     "evalue": "'%' is not a valid value for scale; supported values are 'linear', 'log', 'symlog', 'logit', 'function', 'functionlog'",
     "output_type": "error",
     "traceback": [
      "\u001b[1;31m---------------------------------------------------------------------------\u001b[0m",
      "\u001b[1;31mValueError\u001b[0m                                Traceback (most recent call last)",
      "\u001b[1;32m<ipython-input-229-817fa5ee52f0>\u001b[0m in \u001b[0;36m<module>\u001b[1;34m\u001b[0m\n\u001b[0;32m      2\u001b[0m \u001b[0mplt\u001b[0m\u001b[1;33m.\u001b[0m\u001b[0mtitle\u001b[0m\u001b[1;33m(\u001b[0m\u001b[1;34m'Распределение относительных частот слов'\u001b[0m\u001b[1;33m)\u001b[0m\u001b[1;33m\u001b[0m\u001b[1;33m\u001b[0m\u001b[0m\n\u001b[0;32m      3\u001b[0m \u001b[0mplt\u001b[0m\u001b[1;33m.\u001b[0m\u001b[0myscale\u001b[0m\u001b[1;33m(\u001b[0m\u001b[1;34m'log'\u001b[0m\u001b[1;33m)\u001b[0m\u001b[1;33m;\u001b[0m\u001b[1;33m\u001b[0m\u001b[1;33m\u001b[0m\u001b[0m\n\u001b[1;32m----> 4\u001b[1;33m \u001b[0mplt\u001b[0m\u001b[1;33m.\u001b[0m\u001b[0mxscale\u001b[0m\u001b[1;33m(\u001b[0m\u001b[1;34m'%'\u001b[0m\u001b[1;33m)\u001b[0m\u001b[1;33m;\u001b[0m\u001b[1;33m\u001b[0m\u001b[1;33m\u001b[0m\u001b[0m\n\u001b[0m",
      "\u001b[1;32m~\\anaconda3\\lib\\site-packages\\matplotlib\\pyplot.py\u001b[0m in \u001b[0;36mxscale\u001b[1;34m(value, **kwargs)\u001b[0m\n\u001b[0;32m   3129\u001b[0m \u001b[1;33m@\u001b[0m\u001b[0m_copy_docstring_and_deprecators\u001b[0m\u001b[1;33m(\u001b[0m\u001b[0mAxes\u001b[0m\u001b[1;33m.\u001b[0m\u001b[0mset_xscale\u001b[0m\u001b[1;33m)\u001b[0m\u001b[1;33m\u001b[0m\u001b[1;33m\u001b[0m\u001b[0m\n\u001b[0;32m   3130\u001b[0m \u001b[1;32mdef\u001b[0m \u001b[0mxscale\u001b[0m\u001b[1;33m(\u001b[0m\u001b[0mvalue\u001b[0m\u001b[1;33m,\u001b[0m \u001b[1;33m**\u001b[0m\u001b[0mkwargs\u001b[0m\u001b[1;33m)\u001b[0m\u001b[1;33m:\u001b[0m\u001b[1;33m\u001b[0m\u001b[1;33m\u001b[0m\u001b[0m\n\u001b[1;32m-> 3131\u001b[1;33m     \u001b[1;32mreturn\u001b[0m \u001b[0mgca\u001b[0m\u001b[1;33m(\u001b[0m\u001b[1;33m)\u001b[0m\u001b[1;33m.\u001b[0m\u001b[0mset_xscale\u001b[0m\u001b[1;33m(\u001b[0m\u001b[0mvalue\u001b[0m\u001b[1;33m,\u001b[0m \u001b[1;33m**\u001b[0m\u001b[0mkwargs\u001b[0m\u001b[1;33m)\u001b[0m\u001b[1;33m\u001b[0m\u001b[1;33m\u001b[0m\u001b[0m\n\u001b[0m\u001b[0;32m   3132\u001b[0m \u001b[1;33m\u001b[0m\u001b[0m\n\u001b[0;32m   3133\u001b[0m \u001b[1;33m\u001b[0m\u001b[0m\n",
      "\u001b[1;32m~\\anaconda3\\lib\\site-packages\\matplotlib\\axes\\_base.py\u001b[0m in \u001b[0;36mset_xscale\u001b[1;34m(self, value, **kwargs)\u001b[0m\n\u001b[0;32m   3382\u001b[0m         \u001b[0mg\u001b[0m \u001b[1;33m=\u001b[0m \u001b[0mself\u001b[0m\u001b[1;33m.\u001b[0m\u001b[0mget_shared_x_axes\u001b[0m\u001b[1;33m(\u001b[0m\u001b[1;33m)\u001b[0m\u001b[1;33m\u001b[0m\u001b[1;33m\u001b[0m\u001b[0m\n\u001b[0;32m   3383\u001b[0m         \u001b[1;32mfor\u001b[0m \u001b[0max\u001b[0m \u001b[1;32min\u001b[0m \u001b[0mg\u001b[0m\u001b[1;33m.\u001b[0m\u001b[0mget_siblings\u001b[0m\u001b[1;33m(\u001b[0m\u001b[0mself\u001b[0m\u001b[1;33m)\u001b[0m\u001b[1;33m:\u001b[0m\u001b[1;33m\u001b[0m\u001b[1;33m\u001b[0m\u001b[0m\n\u001b[1;32m-> 3384\u001b[1;33m             \u001b[0max\u001b[0m\u001b[1;33m.\u001b[0m\u001b[0mxaxis\u001b[0m\u001b[1;33m.\u001b[0m\u001b[0m_set_scale\u001b[0m\u001b[1;33m(\u001b[0m\u001b[0mvalue\u001b[0m\u001b[1;33m,\u001b[0m \u001b[1;33m**\u001b[0m\u001b[0mkwargs\u001b[0m\u001b[1;33m)\u001b[0m\u001b[1;33m\u001b[0m\u001b[1;33m\u001b[0m\u001b[0m\n\u001b[0m\u001b[0;32m   3385\u001b[0m             \u001b[0max\u001b[0m\u001b[1;33m.\u001b[0m\u001b[0m_update_transScale\u001b[0m\u001b[1;33m(\u001b[0m\u001b[1;33m)\u001b[0m\u001b[1;33m\u001b[0m\u001b[1;33m\u001b[0m\u001b[0m\n\u001b[0;32m   3386\u001b[0m             \u001b[0max\u001b[0m\u001b[1;33m.\u001b[0m\u001b[0mstale\u001b[0m \u001b[1;33m=\u001b[0m \u001b[1;32mTrue\u001b[0m\u001b[1;33m\u001b[0m\u001b[1;33m\u001b[0m\u001b[0m\n",
      "\u001b[1;32m~\\anaconda3\\lib\\site-packages\\matplotlib\\axis.py\u001b[0m in \u001b[0;36m_set_scale\u001b[1;34m(self, value, **kwargs)\u001b[0m\n\u001b[0;32m    753\u001b[0m \u001b[1;33m\u001b[0m\u001b[0m\n\u001b[0;32m    754\u001b[0m     \u001b[1;32mdef\u001b[0m \u001b[0m_set_scale\u001b[0m\u001b[1;33m(\u001b[0m\u001b[0mself\u001b[0m\u001b[1;33m,\u001b[0m \u001b[0mvalue\u001b[0m\u001b[1;33m,\u001b[0m \u001b[1;33m**\u001b[0m\u001b[0mkwargs\u001b[0m\u001b[1;33m)\u001b[0m\u001b[1;33m:\u001b[0m\u001b[1;33m\u001b[0m\u001b[1;33m\u001b[0m\u001b[0m\n\u001b[1;32m--> 755\u001b[1;33m         \u001b[0mself\u001b[0m\u001b[1;33m.\u001b[0m\u001b[0m_scale\u001b[0m \u001b[1;33m=\u001b[0m \u001b[0mmscale\u001b[0m\u001b[1;33m.\u001b[0m\u001b[0mscale_factory\u001b[0m\u001b[1;33m(\u001b[0m\u001b[0mvalue\u001b[0m\u001b[1;33m,\u001b[0m \u001b[0mself\u001b[0m\u001b[1;33m,\u001b[0m \u001b[1;33m**\u001b[0m\u001b[0mkwargs\u001b[0m\u001b[1;33m)\u001b[0m\u001b[1;33m\u001b[0m\u001b[1;33m\u001b[0m\u001b[0m\n\u001b[0m\u001b[0;32m    756\u001b[0m         \u001b[0mself\u001b[0m\u001b[1;33m.\u001b[0m\u001b[0m_scale\u001b[0m\u001b[1;33m.\u001b[0m\u001b[0mset_default_locators_and_formatters\u001b[0m\u001b[1;33m(\u001b[0m\u001b[0mself\u001b[0m\u001b[1;33m)\u001b[0m\u001b[1;33m\u001b[0m\u001b[1;33m\u001b[0m\u001b[0m\n\u001b[0;32m    757\u001b[0m \u001b[1;33m\u001b[0m\u001b[0m\n",
      "\u001b[1;32m~\\anaconda3\\lib\\site-packages\\matplotlib\\scale.py\u001b[0m in \u001b[0;36mscale_factory\u001b[1;34m(scale, axis, **kwargs)\u001b[0m\n\u001b[0;32m    647\u001b[0m     \"\"\"\n\u001b[0;32m    648\u001b[0m     \u001b[0mscale\u001b[0m \u001b[1;33m=\u001b[0m \u001b[0mscale\u001b[0m\u001b[1;33m.\u001b[0m\u001b[0mlower\u001b[0m\u001b[1;33m(\u001b[0m\u001b[1;33m)\u001b[0m\u001b[1;33m\u001b[0m\u001b[1;33m\u001b[0m\u001b[0m\n\u001b[1;32m--> 649\u001b[1;33m     \u001b[0mcbook\u001b[0m\u001b[1;33m.\u001b[0m\u001b[0m_check_in_list\u001b[0m\u001b[1;33m(\u001b[0m\u001b[0m_scale_mapping\u001b[0m\u001b[1;33m,\u001b[0m \u001b[0mscale\u001b[0m\u001b[1;33m=\u001b[0m\u001b[0mscale\u001b[0m\u001b[1;33m)\u001b[0m\u001b[1;33m\u001b[0m\u001b[1;33m\u001b[0m\u001b[0m\n\u001b[0m\u001b[0;32m    650\u001b[0m     \u001b[1;32mreturn\u001b[0m \u001b[0m_scale_mapping\u001b[0m\u001b[1;33m[\u001b[0m\u001b[0mscale\u001b[0m\u001b[1;33m]\u001b[0m\u001b[1;33m(\u001b[0m\u001b[0maxis\u001b[0m\u001b[1;33m,\u001b[0m \u001b[1;33m**\u001b[0m\u001b[0mkwargs\u001b[0m\u001b[1;33m)\u001b[0m\u001b[1;33m\u001b[0m\u001b[1;33m\u001b[0m\u001b[0m\n\u001b[0;32m    651\u001b[0m \u001b[1;33m\u001b[0m\u001b[0m\n",
      "\u001b[1;32m~\\anaconda3\\lib\\site-packages\\matplotlib\\cbook\\__init__.py\u001b[0m in \u001b[0;36m_check_in_list\u001b[1;34m(_values, **kwargs)\u001b[0m\n\u001b[0;32m   2264\u001b[0m     \u001b[1;32mfor\u001b[0m \u001b[0mk\u001b[0m\u001b[1;33m,\u001b[0m \u001b[0mv\u001b[0m \u001b[1;32min\u001b[0m \u001b[0mkwargs\u001b[0m\u001b[1;33m.\u001b[0m\u001b[0mitems\u001b[0m\u001b[1;33m(\u001b[0m\u001b[1;33m)\u001b[0m\u001b[1;33m:\u001b[0m\u001b[1;33m\u001b[0m\u001b[1;33m\u001b[0m\u001b[0m\n\u001b[0;32m   2265\u001b[0m         \u001b[1;32mif\u001b[0m \u001b[0mv\u001b[0m \u001b[1;32mnot\u001b[0m \u001b[1;32min\u001b[0m \u001b[0mvalues\u001b[0m\u001b[1;33m:\u001b[0m\u001b[1;33m\u001b[0m\u001b[1;33m\u001b[0m\u001b[0m\n\u001b[1;32m-> 2266\u001b[1;33m             raise ValueError(\n\u001b[0m\u001b[0;32m   2267\u001b[0m                 \u001b[1;34m\"{!r} is not a valid value for {}; supported values are {}\"\u001b[0m\u001b[1;33m\u001b[0m\u001b[1;33m\u001b[0m\u001b[0m\n\u001b[0;32m   2268\u001b[0m                 .format(v, k, ', '.join(map(repr, values))))\n",
      "\u001b[1;31mValueError\u001b[0m: '%' is not a valid value for scale; supported values are 'linear', 'log', 'symlog', 'logit', 'function', 'functionlog'"
     ]
    },
    {
     "data": {
      "image/png": "[encoded data removed]",
      "text/plain": [
       "<Figure size 432x288 with 1 Axes>"
      ]
     },
     "metadata": {
      "needs_background": "light"
     },
     "output_type": "display_data"
    }
   ],
   "source": [
    "plt.hist(y_counter.getnnz(), bins=20)\n",
    "plt.title('Распределение относительных частот слов')\n",
    "plt.yscale('log');\n",
    "plt.xscale('%');"
   ]
  },
  {
   "cell_type": "code",
   "execution_count": 28,
   "metadata": {},
   "outputs": [
    {
     "name": "stdout",
     "output_type": "stream",
     "text": [
      "Размерность матрицы признаков обучающей выборки (11314, 21628)\n",
      "Размерность матрицы признаков тестовой выборки (7532, 21628)\n",
      "\n",
      "Количество ненулевых элементов в обучающей выборке 1126792\n",
      "Процент заполненности матрицы признаков 0.46%\n",
      "\n",
      "Количество ненулевых элементов в тестовой выборке 721529\n",
      "Процент заполненности матрицы признаков 0.44%\n"
     ]
    }
   ],
   "source": [
    "print('Размерность матрицы признаков обучающей выборки', train_vectors.shape)\n",
    "print('Размерность матрицы признаков тестовой выборки', test_vectors.shape)\n",
    "print()\n",
    "print('Количество ненулевых элементов в обучающей выборке', train_vectors.nnz)\n",
    "print('Процент заполненности матрицы признаков {:.2f}%'.format(train_vectors.nnz * 100 / (train_vectors.shape[0] * train_vectors.shape[1])))\n",
    "print()\n",
    "print('Количество ненулевых элементов в тестовой выборке', test_vectors.nnz)\n",
    "print('Процент заполненности матрицы признаков {:.2f}%'.format(test_vectors.nnz * 100 / (test_vectors.shape[0] * test_vectors.shape[1])))"
   ]
  },
  {
   "cell_type": "code",
   "execution_count": 29,
   "metadata": {},
   "outputs": [
    {
     "data": {
      "image/png": "[encoded data removed]",
      "text/plain": [
       "<Figure size 432x288 with 1 Axes>"
      ]
     },
     "metadata": {
      "needs_background": "light"
     },
     "output_type": "display_data"
    }
   ],
   "source": [
    "plt.hist(train_vectors.data, bins=20)\n",
    "plt.title('Распределение весов признаков')\n",
    "plt.yscale('log');"
   ]
  },
  {
   "cell_type": "markdown",
   "metadata": {},
   "source": [
    "## Распределение классов"
   ]
  },
  {
   "cell_type": "code",
   "execution_count": 30,
   "metadata": {},
   "outputs": [
    {
     "name": "stdout",
     "output_type": "stream",
     "text": [
      "Количество уникальных меток 20\n"
     ]
    }
   ],
   "source": [
    "UNIQUE_LABELS_N = len(set(train_source['target']))\n",
    "print('Количество уникальных меток', UNIQUE_LABELS_N)"
   ]
  },
  {
   "cell_type": "code",
   "execution_count": 31,
   "metadata": {},
   "outputs": [
    {
     "data": {
      "image/png": "[encoded data removed]",
      "text/plain": [
       "<Figure size 432x288 with 1 Axes>"
      ]
     },
     "metadata": {
      "needs_background": "light"
     },
     "output_type": "display_data"
    }
   ],
   "source": [
    "plt.hist(train_source['target'], bins=np.arange(0, 21))\n",
    "plt.title('Распределение меток в обучающей выборке');"
   ]
  },
  {
   "cell_type": "code",
   "execution_count": 32,
   "metadata": {},
   "outputs": [
    {
     "data": {
      "image/png": "[encoded data removed]",
      "text/plain": [
       "<Figure size 432x288 with 1 Axes>"
      ]
     },
     "metadata": {
      "needs_background": "light"
     },
     "output_type": "display_data"
    }
   ],
   "source": [
    "plt.hist(test_source['target'], bins=np.arange(0, 21))\n",
    "plt.title('Распределение меток в тестовой выборке');"
   ]
  },
  {
   "cell_type": "markdown",
   "metadata": {},
   "source": [
    "## Обучение модели на PyTorch"
   ]
  },
  {
   "cell_type": "code",
   "execution_count": 33,
   "metadata": {},
   "outputs": [],
   "source": [
    "train_dataset = SparseFeaturesDataset(train_vectors, train_source['target'])\n",
    "test_dataset = SparseFeaturesDataset(test_vectors, test_source['target'])"
   ]
  },
  {
   "cell_type": "code",
   "execution_count": 36,
   "metadata": {},
   "outputs": [
    {
     "name": "stdout",
     "output_type": "stream",
     "text": [
      "Эпоха 0\n",
      "Ошибка при обучении: name 'copy_data_to_device' is not defined\n",
      "Traceback (most recent call last):\n",
      "  File \"<ipython-input-12-df4bbf2ddfff>\", line 68, in train_eval_loop\n",
      "    batch_x = copy_data_to_device(batch_x, device)\n",
      "NameError: name 'copy_data_to_device' is not defined\n",
      "\n"
     ]
    }
   ],
   "source": [
    "model = nn.Linear(UNIQUE_WORDS_N, UNIQUE_LABELS_N)\n",
    "\n",
    "scheduler = lambda optim: \\\n",
    "    torch.optim.lr_scheduler.ReduceLROnPlateau(optim, patience=5, factor=0.5, verbose=True)\n",
    "\n",
    "best_val_loss, best_model = train_eval_loop(model=model,\n",
    "                                            train_dataset=train_dataset,\n",
    "                                            val_dataset=test_dataset,\n",
    "                                            criterion=F.cross_entropy,\n",
    "                                            lr=1e-1,\n",
    "                                            epoch_n=200,\n",
    "                                            batch_size=32,\n",
    "                                            l2_reg_alpha=0,\n",
    "                                            lr_scheduler_ctor=scheduler)"
   ]
  },
  {
   "cell_type": "code",
   "execution_count": null,
   "metadata": {},
   "outputs": [],
   "source": [
    "\n",
    "train_pred = predict_with_model(best_model, train_dataset)\n",
    "\n",
    "train_loss = F.cross_entropy(torch.from_numpy(train_pred),\n",
    "                             torch.from_numpy(train_source['target']).long())\n",
    "\n",
    "print('Среднее значение функции потерь на обучении', float(train_loss))\n",
    "print('Доля верных ответов', accuracy_score(train_source['target'], train_pred.argmax(-1)))\n",
    "print()\n",
    "\n",
    "\n",
    "\n",
    "test_pred = predict_with_model(best_model, test_dataset)\n",
    "\n",
    "test_loss = F.cross_entropy(torch.from_numpy(test_pred),\n",
    "                            torch.from_numpy(test_source['target']).long())\n",
    "\n",
    "print('Среднее значение функции потерь на валидации', float(test_loss))\n",
    "print('Доля верных ответов', accuracy_score(test_source['target'], test_pred.argmax(-1)))"
   ]
  },
  {
   "cell_type": "markdown",
   "metadata": {},
   "source": [
    "## Альтернативная реализация на scikit-learn"
   ]
  },
  {
   "cell_type": "code",
   "execution_count": 24,
   "metadata": {},
   "outputs": [],
   "source": [
    "from sklearn.feature_extraction.text import TfidfVectorizer\n",
    "from sklearn.pipeline import Pipeline\n",
    "from sklearn.linear_model import LogisticRegression\n",
    "\n",
    "sklearn_pipeline = Pipeline((('vect', TfidfVectorizer()),\n",
    "                             ('cls', LogisticRegression())))\n",
    "sklearn_pipeline.fit(train_source['data'], train_source['target']);"
   ]
  },
  {
   "cell_type": "code",
   "execution_count": 25,
   "metadata": {},
   "outputs": [
    {
     "ename": "RuntimeError",
     "evalue": "expected scalar type Long but found Int",
     "output_type": "error",
     "traceback": [
      "\u001b[1;31m---------------------------------------------------------------------------\u001b[0m",
      "\u001b[1;31mRuntimeError\u001b[0m                              Traceback (most recent call last)",
      "\u001b[1;32m<ipython-input-25-637f99a54fdd>\u001b[0m in \u001b[0;36m<module>\u001b[1;34m\u001b[0m\n\u001b[0;32m      1\u001b[0m \u001b[0msklearn_train_pred\u001b[0m \u001b[1;33m=\u001b[0m \u001b[0msklearn_pipeline\u001b[0m\u001b[1;33m.\u001b[0m\u001b[0mpredict_proba\u001b[0m\u001b[1;33m(\u001b[0m\u001b[0mtrain_source\u001b[0m\u001b[1;33m[\u001b[0m\u001b[1;34m'data'\u001b[0m\u001b[1;33m]\u001b[0m\u001b[1;33m)\u001b[0m\u001b[1;33m\u001b[0m\u001b[1;33m\u001b[0m\u001b[0m\n\u001b[1;32m----> 2\u001b[1;33m sklearn_train_loss = F.cross_entropy(torch.from_numpy(sklearn_train_pred),\n\u001b[0m\u001b[0;32m      3\u001b[0m                                                  torch.from_numpy(train_source['target']))\n\u001b[0;32m      4\u001b[0m \u001b[0mprint\u001b[0m\u001b[1;33m(\u001b[0m\u001b[1;34m'Среднее значение функции потерь на обучении'\u001b[0m\u001b[1;33m,\u001b[0m \u001b[0mfloat\u001b[0m\u001b[1;33m(\u001b[0m\u001b[0msklearn_train_loss\u001b[0m\u001b[1;33m)\u001b[0m\u001b[1;33m)\u001b[0m\u001b[1;33m\u001b[0m\u001b[1;33m\u001b[0m\u001b[0m\n\u001b[0;32m      5\u001b[0m \u001b[0mprint\u001b[0m\u001b[1;33m(\u001b[0m\u001b[1;34m'Доля верных ответов'\u001b[0m\u001b[1;33m,\u001b[0m \u001b[0maccuracy_score\u001b[0m\u001b[1;33m(\u001b[0m\u001b[0mtrain_source\u001b[0m\u001b[1;33m[\u001b[0m\u001b[1;34m'target'\u001b[0m\u001b[1;33m]\u001b[0m\u001b[1;33m,\u001b[0m \u001b[0msklearn_train_pred\u001b[0m\u001b[1;33m.\u001b[0m\u001b[0margmax\u001b[0m\u001b[1;33m(\u001b[0m\u001b[1;33m-\u001b[0m\u001b[1;36m1\u001b[0m\u001b[1;33m)\u001b[0m\u001b[1;33m)\u001b[0m\u001b[1;33m)\u001b[0m\u001b[1;33m\u001b[0m\u001b[1;33m\u001b[0m\u001b[0m\n",
      "\u001b[1;32m~\\anaconda3\\lib\\site-packages\\torch\\nn\\functional.py\u001b[0m in \u001b[0;36mcross_entropy\u001b[1;34m(input, target, weight, size_average, ignore_index, reduce, reduction)\u001b[0m\n\u001b[0;32m   2019\u001b[0m     \u001b[1;32mif\u001b[0m \u001b[0msize_average\u001b[0m \u001b[1;32mis\u001b[0m \u001b[1;32mnot\u001b[0m \u001b[1;32mNone\u001b[0m \u001b[1;32mor\u001b[0m \u001b[0mreduce\u001b[0m \u001b[1;32mis\u001b[0m \u001b[1;32mnot\u001b[0m \u001b[1;32mNone\u001b[0m\u001b[1;33m:\u001b[0m\u001b[1;33m\u001b[0m\u001b[1;33m\u001b[0m\u001b[0m\n\u001b[0;32m   2020\u001b[0m         \u001b[0mreduction\u001b[0m \u001b[1;33m=\u001b[0m \u001b[0m_Reduction\u001b[0m\u001b[1;33m.\u001b[0m\u001b[0mlegacy_get_string\u001b[0m\u001b[1;33m(\u001b[0m\u001b[0msize_average\u001b[0m\u001b[1;33m,\u001b[0m \u001b[0mreduce\u001b[0m\u001b[1;33m)\u001b[0m\u001b[1;33m\u001b[0m\u001b[1;33m\u001b[0m\u001b[0m\n\u001b[1;32m-> 2021\u001b[1;33m     \u001b[1;32mreturn\u001b[0m \u001b[0mnll_loss\u001b[0m\u001b[1;33m(\u001b[0m\u001b[0mlog_softmax\u001b[0m\u001b[1;33m(\u001b[0m\u001b[0minput\u001b[0m\u001b[1;33m,\u001b[0m \u001b[1;36m1\u001b[0m\u001b[1;33m)\u001b[0m\u001b[1;33m,\u001b[0m \u001b[0mtarget\u001b[0m\u001b[1;33m,\u001b[0m \u001b[0mweight\u001b[0m\u001b[1;33m,\u001b[0m \u001b[1;32mNone\u001b[0m\u001b[1;33m,\u001b[0m \u001b[0mignore_index\u001b[0m\u001b[1;33m,\u001b[0m \u001b[1;32mNone\u001b[0m\u001b[1;33m,\u001b[0m \u001b[0mreduction\u001b[0m\u001b[1;33m)\u001b[0m\u001b[1;33m\u001b[0m\u001b[1;33m\u001b[0m\u001b[0m\n\u001b[0m\u001b[0;32m   2022\u001b[0m \u001b[1;33m\u001b[0m\u001b[0m\n\u001b[0;32m   2023\u001b[0m \u001b[1;33m\u001b[0m\u001b[0m\n",
      "\u001b[1;32m~\\anaconda3\\lib\\site-packages\\torch\\nn\\functional.py\u001b[0m in \u001b[0;36mnll_loss\u001b[1;34m(input, target, weight, size_average, ignore_index, reduce, reduction)\u001b[0m\n\u001b[0;32m   1836\u001b[0m                          .format(input.size(0), target.size(0)))\n\u001b[0;32m   1837\u001b[0m     \u001b[1;32mif\u001b[0m \u001b[0mdim\u001b[0m \u001b[1;33m==\u001b[0m \u001b[1;36m2\u001b[0m\u001b[1;33m:\u001b[0m\u001b[1;33m\u001b[0m\u001b[1;33m\u001b[0m\u001b[0m\n\u001b[1;32m-> 1838\u001b[1;33m         \u001b[0mret\u001b[0m \u001b[1;33m=\u001b[0m \u001b[0mtorch\u001b[0m\u001b[1;33m.\u001b[0m\u001b[0m_C\u001b[0m\u001b[1;33m.\u001b[0m\u001b[0m_nn\u001b[0m\u001b[1;33m.\u001b[0m\u001b[0mnll_loss\u001b[0m\u001b[1;33m(\u001b[0m\u001b[0minput\u001b[0m\u001b[1;33m,\u001b[0m \u001b[0mtarget\u001b[0m\u001b[1;33m,\u001b[0m \u001b[0mweight\u001b[0m\u001b[1;33m,\u001b[0m \u001b[0m_Reduction\u001b[0m\u001b[1;33m.\u001b[0m\u001b[0mget_enum\u001b[0m\u001b[1;33m(\u001b[0m\u001b[0mreduction\u001b[0m\u001b[1;33m)\u001b[0m\u001b[1;33m,\u001b[0m \u001b[0mignore_index\u001b[0m\u001b[1;33m)\u001b[0m\u001b[1;33m\u001b[0m\u001b[1;33m\u001b[0m\u001b[0m\n\u001b[0m\u001b[0;32m   1839\u001b[0m     \u001b[1;32melif\u001b[0m \u001b[0mdim\u001b[0m \u001b[1;33m==\u001b[0m \u001b[1;36m4\u001b[0m\u001b[1;33m:\u001b[0m\u001b[1;33m\u001b[0m\u001b[1;33m\u001b[0m\u001b[0m\n\u001b[0;32m   1840\u001b[0m         \u001b[0mret\u001b[0m \u001b[1;33m=\u001b[0m \u001b[0mtorch\u001b[0m\u001b[1;33m.\u001b[0m\u001b[0m_C\u001b[0m\u001b[1;33m.\u001b[0m\u001b[0m_nn\u001b[0m\u001b[1;33m.\u001b[0m\u001b[0mnll_loss2d\u001b[0m\u001b[1;33m(\u001b[0m\u001b[0minput\u001b[0m\u001b[1;33m,\u001b[0m \u001b[0mtarget\u001b[0m\u001b[1;33m,\u001b[0m \u001b[0mweight\u001b[0m\u001b[1;33m,\u001b[0m \u001b[0m_Reduction\u001b[0m\u001b[1;33m.\u001b[0m\u001b[0mget_enum\u001b[0m\u001b[1;33m(\u001b[0m\u001b[0mreduction\u001b[0m\u001b[1;33m)\u001b[0m\u001b[1;33m,\u001b[0m \u001b[0mignore_index\u001b[0m\u001b[1;33m)\u001b[0m\u001b[1;33m\u001b[0m\u001b[1;33m\u001b[0m\u001b[0m\n",
      "\u001b[1;31mRuntimeError\u001b[0m: expected scalar type Long but found Int"
     ]
    }
   ],
   "source": [
    "sklearn_train_pred = sklearn_pipeline.predict_proba(train_source['data'])\n",
    "sklearn_train_loss = F.cross_entropy(torch.from_numpy(sklearn_train_pred),\n",
    "                                                 torch.from_numpy(train_source['target']))\n",
    "print('Среднее значение функции потерь на обучении', float(sklearn_train_loss))\n",
    "print('Доля верных ответов', accuracy_score(train_source['target'], sklearn_train_pred.argmax(-1)))\n",
    "print()\n",
    "\n",
    "sklearn_test_pred = sklearn_pipeline.predict_proba(test_source['data'])\n",
    "sklearn_test_loss = F.cross_entropy(torch.from_numpy(sklearn_test_pred),\n",
    "                                                torch.from_numpy(test_source['target']))\n",
    "print('Среднее значение функции потерь на валидации', float(sklearn_test_loss))\n",
    "print('Доля верных ответов', accuracy_score(test_source['target'], sklearn_test_pred.argmax(-1)))"
   ]
  }
 ],
 "metadata": {
  "kernelspec": {
   "display_name": "Python 3",
   "language": "python",
   "name": "python3"
  },
  "language_info": {
   "codemirror_mode": {
    "name": "ipython",
    "version": 3
   },
   "file_extension": ".py",
   "mimetype": "text/x-python",
   "name": "python",
   "nbconvert_exporter": "python",
   "pygments_lexer": "ipython3",
   "version": "3.8.5"
  }
 },
 "nbformat": 4,
 "nbformat_minor": 4
}
