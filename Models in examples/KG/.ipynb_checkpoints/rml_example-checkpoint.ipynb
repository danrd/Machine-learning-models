{
 "cells": [
  {
   "cell_type": "markdown",
   "metadata": {},
   "source": [
    "#### Example [RML](https://rml.io/) mapping"
   ]
  },
  {
   "cell_type": "code",
   "execution_count": null,
   "metadata": {},
   "outputs": [],
   "source": [
    "@prefix rr: <http://www.w3.org/ns/r2rml#>.\n",
    "@prefix rml: <http://semweb.mmlab.be/ns/rml#>.\n",
    "@prefix ql: <http://semweb.mmlab.be/ns/ql#>.\n",
    "@prefix xsd: <http://www.w3.org/2001/XMLSchema#>.\n",
    "@prefix ex: <http://example.com/ns#>.\n",
    "@prefix dbo: <http://dbpedia.org/ontology#/>.       \n",
    "@prefix fno: <http://w3id.org/function/ontology#>.\n",
    "@prefix grel: <http://users.ugent.be/~bjdmeest/function/grel.ttl#>.        \n",
    "\n",
    "<#Football_match>\n",
    "\n",
    "  rml:logicalSource [\n",
    "    rml:source \"football_results.csv\";\n",
    "    rml:referenceFormulation ql:CSV\n",
    "  ];\n",
    "\n",
    "        \n",
    "  rr:subjectMap [\n",
    "    rr:template \"http://example.com/Team/Team{home_team}\";\n",
    "    rr:class dbo:FootballTeam \n",
    "  ];\n",
    "    \n",
    "  rr:subjectMap [\n",
    "    rr:template \"http://example.com/Team/Team{away_team}\";\n",
    "    rr:class dbo:FootballTeam \n",
    "  ];    \n",
    "    \n",
    "  rr:subjectMap [\n",
    "    rr:template \"http://example.com/Match/{match_id}\";\n",
    "    rr:class dbo:SportsEvent \n",
    "  ];       \n",
    "\n",
    "    \n",
    "  rr:predicateObjectMap [\n",
    "    rr:predicate ex:isHomeTeamIn;\n",
    "    rr:objectMap [\n",
    "      rml:reference \"match_id\"\n",
    "    ]\n",
    "  ];\n",
    "    \n",
    "  rr:predicateObjectMap [\n",
    "    rr:predicate ex:isAwayTeamIn;\n",
    "    rr:objectMap [\n",
    "      rml:reference \"match_id\"\n",
    "    ]\n",
    "  ];    \n",
    "  \n",
    "  rr:predicateObjectMap [\n",
    "    rr:predicate ex:inTournament;\n",
    "    rr:objectMap [\n",
    "      rml:reference \"tournament_id\"\n",
    "    ]\n",
    "  ];  \n",
    "\n",
    "  rr:predicateObjectMap [\n",
    "    rr:predicate ex:inCity;\n",
    "    rr:objectMap [\n",
    "      rml:reference \"city_id\"\n",
    "    ]\n",
    "  ].   "
   ]
  },
  {
   "cell_type": "markdown",
   "metadata": {},
   "source": [
    "#### Example output data"
   ]
  },
  {
   "cell_type": "code",
   "execution_count": null,
   "metadata": {},
   "outputs": [],
   "source": [
    "<http://example.com/Team/TeamScotland> ex:isHomeTeamIn Match0.\n",
    "\n",
    "<http://example.com/Team/TeamEngland> ex:isAwayTeamIn Match0. \n",
    "        \n",
    "<http://example.com/Match/Match0> ex:inTournament TournamentFriendly.\n",
    "        \n",
    "<http://example.com/Match/Match0> ex:inCity CityGlasgow."
   ]
  }
 ],
 "metadata": {
  "kernelspec": {
   "display_name": "Python 3",
   "language": "python",
   "name": "python3"
  },
  "language_info": {
   "codemirror_mode": {
    "name": "ipython",
    "version": 3
   },
   "file_extension": ".py",
   "mimetype": "text/x-python",
   "name": "python",
   "nbconvert_exporter": "python",
   "pygments_lexer": "ipython3",
   "version": "3.8.5"
  }
 },
 "nbformat": 4,
 "nbformat_minor": 4
}
