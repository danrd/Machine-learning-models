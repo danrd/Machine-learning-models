{
 "cells": [
  {
   "cell_type": "code",
   "execution_count": 1,
   "metadata": {},
   "outputs": [],
   "source": [
    "import numpy as np\n",
    "import pandas as pd\n",
    "import pykeen\n",
    "import torch\n",
    "import requests\n",
    "import seaborn as sns\n",
    "\n",
    "from rdflib import Graph, Literal, RDF, URIRef"
   ]
  },
  {
   "cell_type": "code",
   "execution_count": 2,
   "metadata": {},
   "outputs": [
    {
     "name": "stdout",
     "output_type": "stream",
     "text": [
      "Requirement already satisfied: seaborn in c:\\users\\el tuko\\anaconda3\\envs\\pykeen\\lib\\site-packages (0.11.2)\n",
      "Requirement already satisfied: pandas>=0.23 in c:\\users\\el tuko\\anaconda3\\envs\\pykeen\\lib\\site-packages (from seaborn) (1.3.5)\n",
      "Requirement already satisfied: matplotlib>=2.2 in c:\\users\\el tuko\\anaconda3\\envs\\pykeen\\lib\\site-packages (from seaborn) (3.5.1)\n",
      "Requirement already satisfied: numpy>=1.15 in c:\\users\\el tuko\\anaconda3\\envs\\pykeen\\lib\\site-packages (from seaborn) (1.22.3)\n",
      "Requirement already satisfied: scipy>=1.0 in c:\\users\\el tuko\\anaconda3\\envs\\pykeen\\lib\\site-packages (from seaborn) (1.8.0)\n",
      "Requirement already satisfied: python-dateutil>=2.7 in c:\\users\\el tuko\\anaconda3\\envs\\pykeen\\lib\\site-packages (from matplotlib>=2.2->seaborn) (2.8.2)\n",
      "Requirement already satisfied: fonttools>=4.22.0 in c:\\users\\el tuko\\anaconda3\\envs\\pykeen\\lib\\site-packages (from matplotlib>=2.2->seaborn) (4.31.1)\n",
      "Requirement already satisfied: kiwisolver>=1.0.1 in c:\\users\\el tuko\\anaconda3\\envs\\pykeen\\lib\\site-packages (from matplotlib>=2.2->seaborn) (1.4.0)\n",
      "Requirement already satisfied: pyparsing>=2.2.1 in c:\\users\\el tuko\\anaconda3\\envs\\pykeen\\lib\\site-packages (from matplotlib>=2.2->seaborn) (3.0.4)\n",
      "Requirement already satisfied: pillow>=6.2.0 in c:\\users\\el tuko\\anaconda3\\envs\\pykeen\\lib\\site-packages (from matplotlib>=2.2->seaborn) (9.0.1)\n",
      "Requirement already satisfied: packaging>=20.0 in c:\\users\\el tuko\\anaconda3\\envs\\pykeen\\lib\\site-packages (from matplotlib>=2.2->seaborn) (21.3)\n",
      "Requirement already satisfied: cycler>=0.10 in c:\\users\\el tuko\\anaconda3\\envs\\pykeen\\lib\\site-packages (from matplotlib>=2.2->seaborn) (0.11.0)\n",
      "Requirement already satisfied: pytz>=2017.3 in c:\\users\\el tuko\\anaconda3\\envs\\pykeen\\lib\\site-packages (from pandas>=0.23->seaborn) (2022.1)\n",
      "Requirement already satisfied: six>=1.5 in c:\\users\\el tuko\\anaconda3\\envs\\pykeen\\lib\\site-packages (from python-dateutil>=2.7->matplotlib>=2.2->seaborn) (1.16.0)\n"
     ]
    }
   ],
   "source": [
    "!pip install seaborn"
   ]
  },
  {
   "cell_type": "code",
   "execution_count": 3,
   "metadata": {},
   "outputs": [],
   "source": [
    "file = requests.get(\"https://raw.githubusercontent.com/dimour-itmo/KnowledgeGrpahCourse/master/Practice/P41142/elya-mamedova/GFResult.owl\").content"
   ]
  },
  {
   "cell_type": "code",
   "execution_count": 4,
   "metadata": {},
   "outputs": [],
   "source": [
    "graph = Graph()\n",
    "graph.parse(file, format=\"turtle\")\n",
    "triples = np.array(graph)"
   ]
  },
  {
   "cell_type": "code",
   "execution_count": 5,
   "metadata": {},
   "outputs": [],
   "source": [
    "from pykeen.triples import TriplesFactory\n",
    "tf = TriplesFactory.from_labeled_triples(triples)\n",
    "X_train, X_test = tf.split(0.8, random_state=42)"
   ]
  },
  {
   "cell_type": "code",
   "execution_count": 6,
   "metadata": {},
   "outputs": [
    {
     "data": {
      "text/plain": [
       "(2492, 3)"
      ]
     },
     "execution_count": 6,
     "metadata": {},
     "output_type": "execute_result"
    }
   ],
   "source": [
    "triples.shape"
   ]
  },
  {
   "cell_type": "code",
   "execution_count": 7,
   "metadata": {},
   "outputs": [
    {
     "name": "stderr",
     "output_type": "stream",
     "text": [
      "No random seed is specified. Setting to 3407843234.\n",
      "No cuda devices were available. The model runs on CPU\n",
      "C:\\Users\\El Tuko\\anaconda3\\envs\\pykeen\\lib\\site-packages\\pykeen\\nn\\representation.py:369: UserWarning: Directly use Embedding.max_id instead of num_embeddings.\n",
      "  warnings.warn(f\"Directly use {self.__class__.__name__}.max_id instead of num_embeddings.\")\n",
      "C:\\Users\\El Tuko\\anaconda3\\envs\\pykeen\\lib\\site-packages\\pykeen\\nn\\representation.py:375: UserWarning: Directly use Embedding.shape instead of num_embeddings.\n",
      "  warnings.warn(f\"Directly use {self.__class__.__name__}.shape instead of num_embeddings.\")\n",
      "Training epochs on cpu: 100%|██████████| 400/400 [02:09<00:00,  3.09epoch/s, loss=3.59e-5, prev_loss=2.55e-5]  \n",
      "INFO:pykeen.evaluation.evaluator:Currently automatic memory optimization only supports GPUs, but you're using a CPU. Therefore, the batch_size will be set to the default value.\n",
      "INFO:pykeen.evaluation.evaluator:No evaluation batch_size provided. Setting batch_size to '32'.\n",
      "Evaluating on cpu: 100%|██████████| 499/499 [00:01<00:00, 402triple/s] \n",
      "INFO:pykeen.evaluation.evaluator:Evaluation took 1.26s seconds\n"
     ]
    }
   ],
   "source": [
    "from pykeen.pipeline import pipeline\n",
    "train_result = pipeline(\n",
    "    model='RotatE',  \n",
    "    training=X_train,\n",
    "    testing=X_test,\n",
    "    epochs=400,\n",
    "    filter_validation_when_testing=True \n",
    ")"
   ]
  },
  {
   "cell_type": "code",
   "execution_count": 8,
   "metadata": {},
   "outputs": [
    {
     "data": {
      "text/plain": [
       "0.43982021498789187"
      ]
     },
     "execution_count": 8,
     "metadata": {},
     "output_type": "execute_result"
    }
   ],
   "source": [
    "train_result.get_metric(\"mrr\")"
   ]
  },
  {
   "cell_type": "code",
   "execution_count": 9,
   "metadata": {},
   "outputs": [
    {
     "data": {
      "text/html": [
       "<div>\n",
       "<style scoped>\n",
       "    .dataframe tbody tr th:only-of-type {\n",
       "        vertical-align: middle;\n",
       "    }\n",
       "\n",
       "    .dataframe tbody tr th {\n",
       "        vertical-align: top;\n",
       "    }\n",
       "\n",
       "    .dataframe thead th {\n",
       "        text-align: right;\n",
       "    }\n",
       "</style>\n",
       "<table border=\"1\" class=\"dataframe\">\n",
       "  <thead>\n",
       "    <tr style=\"text-align: right;\">\n",
       "      <th></th>\n",
       "      <th>Side</th>\n",
       "      <th>Type</th>\n",
       "      <th>Metric</th>\n",
       "      <th>Value</th>\n",
       "    </tr>\n",
       "  </thead>\n",
       "  <tbody>\n",
       "    <tr>\n",
       "      <th>0</th>\n",
       "      <td>head</td>\n",
       "      <td>optimistic</td>\n",
       "      <td>inverse_harmonic_mean_rank</td>\n",
       "      <td>0.305680</td>\n",
       "    </tr>\n",
       "    <tr>\n",
       "      <th>1</th>\n",
       "      <td>tail</td>\n",
       "      <td>optimistic</td>\n",
       "      <td>inverse_harmonic_mean_rank</td>\n",
       "      <td>0.573961</td>\n",
       "    </tr>\n",
       "    <tr>\n",
       "      <th>2</th>\n",
       "      <td>both</td>\n",
       "      <td>optimistic</td>\n",
       "      <td>inverse_harmonic_mean_rank</td>\n",
       "      <td>0.439820</td>\n",
       "    </tr>\n",
       "    <tr>\n",
       "      <th>3</th>\n",
       "      <td>head</td>\n",
       "      <td>realistic</td>\n",
       "      <td>inverse_harmonic_mean_rank</td>\n",
       "      <td>0.305680</td>\n",
       "    </tr>\n",
       "    <tr>\n",
       "      <th>4</th>\n",
       "      <td>tail</td>\n",
       "      <td>realistic</td>\n",
       "      <td>inverse_harmonic_mean_rank</td>\n",
       "      <td>0.573961</td>\n",
       "    </tr>\n",
       "    <tr>\n",
       "      <th>...</th>\n",
       "      <td>...</td>\n",
       "      <td>...</td>\n",
       "      <td>...</td>\n",
       "      <td>...</td>\n",
       "    </tr>\n",
       "    <tr>\n",
       "      <th>202</th>\n",
       "      <td>tail</td>\n",
       "      <td>realistic</td>\n",
       "      <td>adjusted_hits_at_k</td>\n",
       "      <td>0.763136</td>\n",
       "    </tr>\n",
       "    <tr>\n",
       "      <th>203</th>\n",
       "      <td>both</td>\n",
       "      <td>realistic</td>\n",
       "      <td>adjusted_hits_at_k</td>\n",
       "      <td>0.638537</td>\n",
       "    </tr>\n",
       "    <tr>\n",
       "      <th>204</th>\n",
       "      <td>head</td>\n",
       "      <td>pessimistic</td>\n",
       "      <td>adjusted_hits_at_k</td>\n",
       "      <td>0.513873</td>\n",
       "    </tr>\n",
       "    <tr>\n",
       "      <th>205</th>\n",
       "      <td>tail</td>\n",
       "      <td>pessimistic</td>\n",
       "      <td>adjusted_hits_at_k</td>\n",
       "      <td>0.763136</td>\n",
       "    </tr>\n",
       "    <tr>\n",
       "      <th>206</th>\n",
       "      <td>both</td>\n",
       "      <td>pessimistic</td>\n",
       "      <td>adjusted_hits_at_k</td>\n",
       "      <td>0.638537</td>\n",
       "    </tr>\n",
       "  </tbody>\n",
       "</table>\n",
       "<p>207 rows × 4 columns</p>\n",
       "</div>"
      ],
      "text/plain": [
       "     Side         Type                      Metric     Value\n",
       "0    head   optimistic  inverse_harmonic_mean_rank  0.305680\n",
       "1    tail   optimistic  inverse_harmonic_mean_rank  0.573961\n",
       "2    both   optimistic  inverse_harmonic_mean_rank  0.439820\n",
       "3    head    realistic  inverse_harmonic_mean_rank  0.305680\n",
       "4    tail    realistic  inverse_harmonic_mean_rank  0.573961\n",
       "..    ...          ...                         ...       ...\n",
       "202  tail    realistic          adjusted_hits_at_k  0.763136\n",
       "203  both    realistic          adjusted_hits_at_k  0.638537\n",
       "204  head  pessimistic          adjusted_hits_at_k  0.513873\n",
       "205  tail  pessimistic          adjusted_hits_at_k  0.763136\n",
       "206  both  pessimistic          adjusted_hits_at_k  0.638537\n",
       "\n",
       "[207 rows x 4 columns]"
      ]
     },
     "execution_count": 9,
     "metadata": {},
     "output_type": "execute_result"
    }
   ],
   "source": [
    "train_result.metric_results.to_df()"
   ]
  }
 ],
 "metadata": {
  "interpreter": {
   "hash": "b5747654a8d3dabb2194ac0001a59eb82e8591f75afeccf667763b3c3d325127"
  },
  "kernelspec": {
   "display_name": "pykeen",
   "language": "python",
   "name": "python3"
  },
  "language_info": {
   "codemirror_mode": {
    "name": "ipython",
    "version": 3
   },
   "file_extension": ".py",
   "mimetype": "text/x-python",
   "name": "python",
   "nbconvert_exporter": "python",
   "pygments_lexer": "ipython3",
   "version": "3.8.12"
  }
 },
 "nbformat": 4,
 "nbformat_minor": 4
}
